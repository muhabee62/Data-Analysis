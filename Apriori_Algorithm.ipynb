{
 "cells": [
  {
   "cell_type": "markdown",
   "metadata": {
    "id": "P08k-JKaiZV3"
   },
   "source": [
    "## Task : Download the 'Portugal_online_retail', 'Sweden_online_retail, and 'UK_online_retail' datasets. Apply the apriori algorithm to all datasets using three different confidence levels. Select one confidence level for each dataset that you think works better. Determine the first three most important rules for each dataset using the selected confidence level and report them in the report cell. Explain what each rule means."
   ]
  },
  {
   "cell_type": "code",
   "execution_count": 12,
   "metadata": {
    "id": "scoN8VJ3kfrf",
    "scrolled": false
   },
   "outputs": [
    {
     "name": "stdout",
     "output_type": "stream",
     "text": [
      "Confidence Level: 0.6\n"
     ]
    },
    {
     "name": "stderr",
     "output_type": "stream",
     "text": [
      "c:\\users\\muhab\\appdata\\local\\programs\\python\\python37\\lib\\site-packages\\mlxtend\\frequent_patterns\\fpcommon.py:113: DeprecationWarning: DataFrames with non-bool types result in worse computationalperformance and their support might be discontinued in the future.Please use a DataFrame with bool type\n",
      "  DeprecationWarning,\n",
      "c:\\users\\muhab\\appdata\\local\\programs\\python\\python37\\lib\\site-packages\\mlxtend\\frequent_patterns\\fpcommon.py:113: DeprecationWarning: DataFrames with non-bool types result in worse computationalperformance and their support might be discontinued in the future.Please use a DataFrame with bool type\n",
      "  DeprecationWarning,\n",
      "c:\\users\\muhab\\appdata\\local\\programs\\python\\python37\\lib\\site-packages\\mlxtend\\frequent_patterns\\fpcommon.py:113: DeprecationWarning: DataFrames with non-bool types result in worse computationalperformance and their support might be discontinued in the future.Please use a DataFrame with bool type\n",
      "  DeprecationWarning,\n"
     ]
    },
    {
     "name": "stdout",
     "output_type": "stream",
     "text": [
      "\n",
      "Portugal Rules:\n",
      "                                              antecedents  \\\n",
      "122269  (JUMBO SHOPPER VINTAGE RED PAISLEY, JUMBO  BAG...   \n",
      "114844  (JUMBO SHOPPER VINTAGE RED PAISLEY, PACK OF 12...   \n",
      "114836  (PACK OF 12 RED RETROSPOT TISSUES, RETROSPOT T...   \n",
      "\n",
      "                                              consequents  antecedent support  \\\n",
      "122269  (LUNCH BAG CARS BLUE, CHARLOTTE BAG SUKI DESIG...            0.051724   \n",
      "114844  (PLASTERS IN TIN VINTAGE PAISLEY, RETROSPOT TE...            0.051724   \n",
      "114836  (JUMBO SHOPPER VINTAGE RED PAISLEY, PLASTERS I...            0.051724   \n",
      "\n",
      "        consequent support   support  confidence       lift  leverage  \\\n",
      "122269            0.051724  0.051724         1.0  19.333333  0.049049   \n",
      "114844            0.068966  0.051724         1.0  14.500000  0.048157   \n",
      "114836            0.068966  0.051724         1.0  14.500000  0.048157   \n",
      "\n",
      "        conviction  zhangs_metric  \n",
      "122269         inf       1.000000  \n",
      "114844         inf       0.981818  \n",
      "114836         inf       0.981818  \n",
      "\n",
      "Sweden Rules:\n",
      "                                             antecedents  \\\n",
      "0                          (12 PENCILS SMALL TUBE SKULL)   \n",
      "65073  (MINI PAINT SET VINTAGE, PACK OF 72 RETROSPOT ...   \n",
      "65082  (60 CAKE CASES DOLLY GIRL DESIGN, RETROSPOT TE...   \n",
      "\n",
      "                                             consequents  antecedent support  \\\n",
      "0                          (PACK OF 72 SKULL CAKE CASES)            0.055556   \n",
      "65073  (60 CAKE CASES DOLLY GIRL DESIGN, RETROSPOT TE...            0.055556   \n",
      "65082  (PACK OF 72 RETROSPOT CAKE CASES, BAG 250g SWI...            0.055556   \n",
      "\n",
      "       consequent support   support  confidence  lift  leverage  conviction  \\\n",
      "0                0.055556  0.055556         1.0  18.0  0.052469         inf   \n",
      "65073            0.055556  0.055556         1.0  18.0  0.052469         inf   \n",
      "65082            0.055556  0.055556         1.0  18.0  0.052469         inf   \n",
      "\n",
      "       zhangs_metric  \n",
      "0                1.0  \n",
      "65073            1.0  \n",
      "65082            1.0  \n",
      "\n",
      "UK Rules:\n",
      "                         antecedents                        consequents  \\\n",
      "3   (PINK REGENCY TEACUP AND SAUCER)  (GREEN REGENCY TEACUP AND SAUCER)   \n",
      "5  (GREEN REGENCY TEACUP AND SAUCER)  (ROSES REGENCY TEACUP AND SAUCER)   \n",
      "4  (ROSES REGENCY TEACUP AND SAUCER)  (GREEN REGENCY TEACUP AND SAUCER)   \n",
      "\n",
      "   antecedent support  consequent support   support  confidence       lift  \\\n",
      "3            0.037660            0.050035  0.030910    0.820768  16.403939   \n",
      "5            0.050035            0.051267  0.037553    0.750535  14.639752   \n",
      "4            0.051267            0.050035  0.037553    0.732497  14.639752   \n",
      "\n",
      "   leverage  conviction  zhangs_metric  \n",
      "3  0.029026    5.300203       0.975787  \n",
      "5  0.034988    3.803076       0.980765  \n",
      "4  0.034988    3.551237       0.982039  \n"
     ]
    }
   ],
   "source": [
    "############### Write your code in this cell (If applicable) ##################\n",
    "# Loading the necessary libraries\n",
    "import numpy as np\n",
    "import pandas as pd\n",
    "from mlxtend.frequent_patterns import apriori\n",
    "from mlxtend.frequent_patterns import association_rules\n",
    "\n",
    "# Set display options to show all columns and rows without truncation\n",
    "pd.set_option('display.max_columns', None)\n",
    "pd.set_option('display.max_rows', None)\n",
    "\n",
    "# Loading the datasets\n",
    "portugal_df = pd.read_csv('C:/Users/muhab/Downloads/Portugal_online_retail.csv')\n",
    "sweden_df = pd.read_csv('C:/Users/muhab/Downloads/Sweden_online_retail.csv')\n",
    "uk_df = pd.read_csv('C:/Users/muhab/Downloads/UK_online_retail.csv')\n",
    "\n",
    "\n",
    "portugal_df=portugal_df.drop('InvoiceNo',axis=1)\n",
    "sweden_df=sweden_df.drop('InvoiceNo',axis=1)\n",
    "uk_df=uk_df.drop('InvoiceNo',axis=1)\n",
    "\n",
    "# Define different confidence levels\n",
    "#confidence_levels = [0.5, 0.6, 0.7]\n",
    "confidence_levels = [0.6]\n",
    "\n",
    "# Apply the Apriori algorithm with different confidence levels for each dataset\n",
    "for confidence_level in confidence_levels:\n",
    "    print(f\"Confidence Level: {confidence_level}\")\n",
    "    \n",
    "    # Apply Apriori algorithm\n",
    "    portugal_frequent_itemsets = apriori(portugal_df, min_support=0.05, use_colnames=True)\n",
    "    portugal_rules = association_rules(portugal_frequent_itemsets, metric=\"confidence\", min_threshold=confidence_level)\n",
    "    \n",
    "    sweden_frequent_itemsets = apriori(sweden_df, min_support=0.05, use_colnames=True)\n",
    "    sweden_rules = association_rules(sweden_frequent_itemsets, metric=\"confidence\", min_threshold=confidence_level)\n",
    "    \n",
    "    uk_frequent_itemsets = apriori(uk_df, min_support=0.03, use_colnames=True)\n",
    "    uk_rules = association_rules(uk_frequent_itemsets, metric=\"confidence\", min_threshold=confidence_level)\n",
    "    \n",
    "    # Display the results\n",
    "    #print(\"Portugal Rules:\")\n",
    "    #print(portugal_rules.sort_values(by=['confidence'],ascending=False))\n",
    "    #print(\"\\nSweden Rules:\")\n",
    "    #print(sweden_rules.sort_values(by=['confidence'],ascending=False))\n",
    "    #print(\"\\nUK Rules:\")\n",
    "    #print(uk_rules.sort_values(by=['confidence'],ascending=False))\n",
    "    \n",
    "    \n",
    "# Display the top three rules for each dataset\n",
    "print(\"\\nPortugal Rules:\")\n",
    "print(portugal_rules.sort_values(by=['confidence'], ascending=False).head(3))\n",
    "print(\"\\nSweden Rules:\")\n",
    "print(sweden_rules.sort_values(by=['confidence'], ascending=False).head(3))\n",
    "print(\"\\nUK Rules:\")\n",
    "print(uk_rules.sort_values(by=['confidence'], ascending=False).head(3))\n",
    "\n"
   ]
  },
  {
   "cell_type": "markdown",
   "metadata": {
    "id": "HwsNMnXckpTr"
   },
   "source": [
    "######################## REPORT #############################\n",
    "\n",
    "I firstly applied three confidence to all the datasets which are 0.5, 0.6 and 0.7. Based on the result I got, it seemed that a confidence level of 0.5 or 0.6 might work best as they yield a larger number of rules with high confidence (1.0).\n",
    "\n",
    "However, I selected 0.6 because I traded off more rules for more confidence as using 0.6 results to slightly fewer rules but with a slightly higher confidence threshold whereas using 0.5 results more rules but lesser confidence.\n",
    "\n",
    "Subsequentlty, I used the 'head(3)' function to extract the first three most important rules for each dataset using 0.6 confidence level.\n",
    "\n",
    "PORTUGAL RULES:\n",
    "\n",
    "The first rule suggests that customers who purchase both the \"JUMBO SHOPPER VINTAGE RED PAISLEY\" and \"JUMBO BAG WOODLAND ANIMALS\" are highly likely to buy the \"LUNCH BAG CARS BLUE\" and \"CHARLOTTE BAG SUKI DESIGN\" as well, with a confidence of 1.0 (100%).\n",
    "\n",
    "The second rule indicates that customers who buy the \"JUMBO SHOPPER VINTAGE RED PAISLEY\" and \"PACK OF 12 RED RETROSPOT TISSUES\" are highly likely to purchase the \"PLASTERS IN TIN VINTAGE PAISLEY\" and \"RETROSPOT TEA SET CERAMIC 11 PC\" with a confidence of 1.0 (100%).\n",
    "\n",
    "The third rule shows that customers who purchase the \"PACK OF 12 RED RETROSPOT TISSUES\" and \"RETROSPOT TEA SET CERAMIC 11 PC\" are highly likely to buy the \"JUMBO SHOPPER VINTAGE RED PAISLEY\" and \"PLASTERS IN TIN VINTAGE PAISLEY\" as well, with a confidence of 1.0 (100%).\n",
    "\n",
    "SWEDEN RULES:\n",
    "\n",
    "In Sweden, the rule suggests that customers who buy the \"12 PENCILS SMALL TUBE SKULL\" are highly likely to purchase the \"PACK OF 72 SKULL CAKE CASES\" as well, with a confidence of 1.0 (100%).\n",
    "\n",
    "The second rule indicates that customers who purchase both the \"MINI PAINT SET VINTAGE\" and \"PACK OF 72 RETROSPOT CAKE CASES\" are highly likely to buy the \"60 CAKE CASES DOLLY GIRL DESIGN\" and \"RETROSPOT TEA SET CERAMIC 11 PC\" as well, with a confidence of 1.0 (100%).\n",
    "\n",
    "The third rule shows that customers who buy the \"60 CAKE CASES DOLLY GIRL DESIGN\" and \"RETROSPOT TEA SET CERAMIC 11 PC\" are highly likely to purchase the \"PACK OF 72 RETROSPOT CAKE CASES\" and \"BAG 250g SWIRLY MARBLES\" as well, with a confidence of 1.0 (100%).\n",
    "\n",
    "UK RULES:\n",
    "\n",
    "The first rule in the UK dataset suggests that customers who purchase the \"PINK REGENCY TEACUP AND SAUCER\" are highly likely to buy the \"GREEN REGENCY TEACUP AND SAUCER\" as well, with a confidence of 0.82 (82%).\n",
    "\n",
    "The second rule indicates that customers who buy the \"GREEN REGENCY TEACUP AND SAUCER\" are highly likely to purchase the \"ROSES REGENCY TEACUP AND SAUCER\" as well, with a confidence of 0.75 (75%).\n",
    "\n",
    "The third rule shows that customers who purchase the \"ROSES REGENCY TEACUP AND SAUCER\" are highly likely to buy the \"GREEN REGENCY TEACUP AND SAUCER\" as well, with a confidence of 0.73 (73%).\n",
    "\n",
    "These rules provide insights into purchasing patterns and associations between different products in each dataset.\n",
    "\n"
   ]
  }
 ],
 "metadata": {
  "colab": {
   "provenance": []
  },
  "kernelspec": {
   "display_name": "Python 3 (ipykernel)",
   "language": "python",
   "name": "python3"
  },
  "language_info": {
   "codemirror_mode": {
    "name": "ipython",
    "version": 3
   },
   "file_extension": ".py",
   "mimetype": "text/x-python",
   "name": "python",
   "nbconvert_exporter": "python",
   "pygments_lexer": "ipython3",
   "version": "3.7.8"
  }
 },
 "nbformat": 4,
 "nbformat_minor": 1
}
